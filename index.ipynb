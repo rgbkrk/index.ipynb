{
 "metadata": {
  "name": ""
 },
 "nbformat": 3,
 "nbformat_minor": 0,
 "worksheets": [
  {
   "cells": [
    {
     "cell_type": "heading",
     "level": 1,
     "metadata": {},
     "source": [
      "index.ipynb for GitHub repositories"
     ]
    },
    {
     "cell_type": "markdown",
     "metadata": {},
     "source": [
      "Create a notebook named index (filename as \"index.ipynb\") within your repository of notebooks on GitHub, and nbviewer will render it instead of the directory listing.\n",
      "\n",
      "For this to be useful to your readers, you'll want to link your notebooks. Here's a listing from this repository:\n",
      "\n",
      "* [Some other notebook](some other notebook.ipynb)\n",
      "\n",
      "That's all I've got. Sorry I don't have any pretty pictures. On second thought, have some otters.\n",
      "\n",
      "![](http://upload.wikimedia.org/wikipedia/commons/d/d4/Sea_otter_pair2.jpg)"
     ]
    }
   ],
   "metadata": {}
  }
 ]
}